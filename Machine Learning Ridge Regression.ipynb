{
 "cells": [
  {
   "cell_type": "code",
   "execution_count": 52,
   "metadata": {
    "collapsed": true
   },
   "outputs": [],
   "source": [
    "import numpy as np\n",
    "import pandas as pd\n",
    "import matplotlib as plt"
   ]
  },
  {
   "cell_type": "code",
   "execution_count": 113,
   "metadata": {
    "collapsed": false
   },
   "outputs": [],
   "source": [
    "X_test= pd.read_csv(\"X_test.csv\",header= None)\n",
    "X = pd.read_csv(\"X_train.csv\",header= None)\n",
    "y_test=pd.read_csv(\"y_test.csv\",header=None)\n",
    "y=pd.read_csv(\"y_train.csv\",header=None)\n",
    "\n",
    "XT = np.transpose(X)\n",
    "XTX = np.dot(XT,X)\n",
    "XTy= np.dot(XT,y)\n",
    "I=np.identity(7)"
   ]
  },
  {
   "cell_type": "code",
   "execution_count": 159,
   "metadata": {
    "collapsed": false
   },
   "outputs": [],
   "source": [
    "def ridgeregression(lamda):\n",
    "\n",
    "    return np.dot(np.linalg.inv(np.dot(lamda,I) + XTX),XTy)\n",
    "\n",
    "wrr=np.empty([0,7])\n",
    "\n",
    "for x in range(1,5000):\n",
    "    wrr = np.vstack([wrr, np.transpose(ridgeregression(x))])"
   ]
  },
  {
   "cell_type": "code",
   "execution_count": 160,
   "metadata": {
    "collapsed": false
   },
   "outputs": [
    {
     "data": {
      "text/plain": [
       "array([[-0.44572373,  0.57776701, -0.34449687, ...,  0.25110636,\n",
       "         2.76333513,  0.00812705],\n",
       "       [-0.44130977,  0.44574021, -0.39917848, ...,  0.21690527,\n",
       "         2.74640485,  0.00636261],\n",
       "       [-0.44142786,  0.33021663, -0.44919973, ...,  0.18637078,\n",
       "         2.73044869,  0.0048159 ],\n",
       "       ..., \n",
       "       [-0.32581703, -0.33557558, -0.32390749, ...,  0.16123684,\n",
       "         0.25667615,  0.00806463],\n",
       "       [-0.32576685, -0.33552376, -0.3238576 , ...,  0.16121416,\n",
       "         0.25663292,  0.00806358],\n",
       "       [-0.32571669, -0.33547195, -0.32380772, ...,  0.16119149,\n",
       "         0.2565897 ,  0.00806252]])"
      ]
     },
     "execution_count": 160,
     "metadata": {},
     "output_type": "execute_result"
    }
   ],
   "source": [
    "wrr"
   ]
  },
  {
   "cell_type": "code",
   "execution_count": null,
   "metadata": {
    "collapsed": false
   },
   "outputs": [],
   "source": []
  },
  {
   "cell_type": "code",
   "execution_count": 139,
   "metadata": {
    "collapsed": false
   },
   "outputs": [],
   "source": [
    "c1=np.transpose(ridgeregression(1))\n",
    "c2=np.transpose(ridgeregression(2))"
   ]
  },
  {
   "cell_type": "code",
   "execution_count": 143,
   "metadata": {
    "collapsed": false
   },
   "outputs": [
    {
     "data": {
      "text/plain": [
       "array([[-0.44572373,  0.57776701, -0.34449687, -5.40968597,  0.25110636,\n",
       "         2.76333513,  0.00812705]])"
      ]
     },
     "execution_count": 143,
     "metadata": {},
     "output_type": "execute_result"
    }
   ],
   "source": [
    "np.append(wrr,c1,axis=0)"
   ]
  },
  {
   "cell_type": "code",
   "execution_count": 153,
   "metadata": {
    "collapsed": false
   },
   "outputs": [],
   "source": [
    "wrr = np.vstack([wrr, c2])"
   ]
  },
  {
   "cell_type": "code",
   "execution_count": 154,
   "metadata": {
    "collapsed": false
   },
   "outputs": [
    {
     "data": {
      "text/plain": [
       "array([[-0.44572373,  0.57776701, -0.34449687, -5.40968597,  0.25110636,\n",
       "         2.76333513,  0.00812705],\n",
       "       [-0.44130977,  0.44574021, -0.39917848, -5.25028919,  0.21690527,\n",
       "         2.74640485,  0.00636261]])"
      ]
     },
     "execution_count": 154,
     "metadata": {},
     "output_type": "execute_result"
    }
   ],
   "source": [
    "wrr"
   ]
  },
  {
   "cell_type": "code",
   "execution_count": 116,
   "metadata": {
    "collapsed": false
   },
   "outputs": [
    {
     "data": {
      "text/plain": [
       "array([[-0.44572373,  0.57776701, -0.34449687, -5.40968597,  0.25110636,\n",
       "         2.76333513,  0.00812705]])"
      ]
     },
     "execution_count": 116,
     "metadata": {},
     "output_type": "execute_result"
    }
   ],
   "source": [
    "c"
   ]
  },
  {
   "cell_type": "code",
   "execution_count": null,
   "metadata": {
    "collapsed": true
   },
   "outputs": [],
   "source": []
  }
 ],
 "metadata": {
  "anaconda-cloud": {},
  "kernelspec": {
   "display_name": "Python [conda root]",
   "language": "python",
   "name": "conda-root-py"
  },
  "language_info": {
   "codemirror_mode": {
    "name": "ipython",
    "version": 2
   },
   "file_extension": ".py",
   "mimetype": "text/x-python",
   "name": "python",
   "nbconvert_exporter": "python",
   "pygments_lexer": "ipython2",
   "version": "2.7.12"
  }
 },
 "nbformat": 4,
 "nbformat_minor": 1
}
