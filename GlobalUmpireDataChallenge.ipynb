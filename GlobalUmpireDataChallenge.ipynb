{
 "cells": [
  {
   "cell_type": "markdown",
   "metadata": {},
   "source": [
    "# Baran Akyol's perspective on G.U. Data Challenge"
   ]
  },
  {
   "cell_type": "markdown",
   "metadata": {},
   "source": [
    "# Initial Steps"
   ]
  },
  {
   "cell_type": "markdown",
   "metadata": {},
   "source": [
    "## Import necessary packages"
   ]
  },
  {
   "cell_type": "code",
   "execution_count": 3,
   "metadata": {},
   "outputs": [],
   "source": [
    "import pandas as pd\n",
    "import numpy as np\n",
    "from scipy import stats\n",
    "import matplotlib.pyplot as plt\n",
    "import re\n",
    "import warnings\n",
    "import statsmodels.api as sm\n",
    "import seaborn\n",
    "from arch.unitroot import PhillipsPerron\n",
    "from scipy.stats.stats import pearsonr\n",
    "from sklearn import linear_model\n",
    "from nltk.tokenize import RegexpTokenizer\n",
    "from sklearn.preprocessing import PolynomialFeatures\n",
    "from sklearn.pipeline import make_pipeline\n",
    "from sklearn.metrics import mean_squared_error\n",
    "import tweepy \n",
    "from tweepy import OAuthHandler\n",
    "from textblob import TextBlob\n",
    "%matplotlib inline"
   ]
  },
  {
   "cell_type": "markdown",
   "metadata": {},
   "source": [
    "## Import and format Data"
   ]
  },
  {
   "cell_type": "code",
   "execution_count": 4,
   "metadata": {},
   "outputs": [],
   "source": [
    "financials = pd.read_csv(\"Financials.csv\",index_col=0)\n",
    "stockprice = pd.read_csv(\"StockPrice.csv\",index_col=0)\n",
    "y = stockprice.iloc[1:9,0].values\n",
    "\n",
    "def format_data(data):\n",
    "    \"\"\" Create data dictionary.\n",
    "    Creates a \"function friendly\" dictionary of Series objects with \n",
    "    'float32' dtype and without NA values.\n",
    "    Parameters\n",
    "    ----------\n",
    "    data: DataFrame\n",
    "        A pandas DataFrame containing the raw data\n",
    "    Returns\n",
    "    -------\n",
    "    value_dict: dict\n",
    "        A python dictionary containing values as Series objects\n",
    "    \"\"\"\n",
    "    data = data.fillna('')\n",
    "    value_dict = {}\n",
    "    # Get rid of the commas(',') so they can be converted to float and iterate trough every row\n",
    "    for name,row in data.replace({',':''},regex=True).iterrows():\n",
    "        #if \n",
    "        if row[3] != '':\n",
    "            \n",
    "            value_dict[re.sub(' ','',\" \".join(re.findall(\"[a-zA-Z]+\", name)))] = \\\n",
    "                                                pd.Series(row[0:8],dtype='float32').values\n",
    "  \n",
    "    return value_dict"
   ]
  },
  {
   "cell_type": "code",
   "execution_count": 5,
   "metadata": {},
   "outputs": [
    {
     "name": "stdout",
     "output_type": "stream",
     "text": [
      "Features:  dict_keys(['NetIncome', 'TotalAssets', 'TotalEquityCap', 'TierIRatio', 'RiskBasedCapitalRatio', 'LiquidityRatio', 'NPLsTotLns'])\n",
      "Values for Total Assets:  [ 31272894.  30355360.  30615812.  30146710.  28953664.  28881488.\n",
      "  27613620.  27159712.]\n",
      "Type of dict object:  <class 'numpy.ndarray'>\n",
      "Type of item in dict object:  <class 'numpy.float32'>\n"
     ]
    }
   ],
   "source": [
    "value_dict = format_data(financials)\n",
    "\n",
    "print('Features: ',value_dict.keys())\n",
    "print('Values for Total Assets: ',value_dict['TotalAssets'])\n",
    "print('Type of dict object: ', type(value_dict['TotalAssets']))\n",
    "print('Type of item in dict object: ',type(value_dict['TotalAssets'][0]))"
   ]
  },
  {
   "cell_type": "markdown",
   "metadata": {},
   "source": [
    "# Notes for this section:\n",
    "\n",
    "* Ok, I think this looks a lot complexer than it actually is and was pretty fast and straightforward.. to write but still was a bit uncalled for as typing the data points manually would at any rate be faster.\n",
    "\n",
    "\n",
    "* The point however is to have something that generalizes. This  assignment was for 1 company with 7 features but this code can analyze 1000 companies with 1000 features<br>"
   ]
  },
  {
   "cell_type": "markdown",
   "metadata": {
    "collapsed": true
   },
   "source": [
    "# CREDIT  RISK ASSESSMENT  BASICS\n",
    "### Important Note:\n",
    "I didn't realize that data started from 2015 and moved back in time until it was too late. I am much more used to having it the other way around and did the analysis thinking it started from an earlier time and moved forward. I figured I didn't need to redo everything I did though as it doesn't really make any difference for the purposes of you seeing how I'd do the analysis. Hope its fine. Sorry."
   ]
  },
  {
   "cell_type": "markdown",
   "metadata": {},
   "source": [
    "## Financial Analysis\n",
    "### Trends\n",
    "\n",
    "<br>We don't have enough data points to make strong analysis and the origin of our Time Series data is not that far from the present day. As such, we might (erroneously) label the inital phase of seasonality or a cycle as a trend. However, for the purposes of this assignment I will make the assumption that our series doesn't have seasonality or a cycle. There is also not enough data points to sufficiently test for drift. With more data we could fit an ARIMA model and see check the significance(or lack thereof) of the Moving Average components for drift.\n",
    "\n",
    "There are two types of trend:\n",
    "* Deterministic Trend\n",
    "* Stochastic Trend\n",
    "\n",
    "<br>Deterministic Trend is best understood(in my opinion) by graphing the data. To make things easier I will also plot a line of best fit and print its parameter values. I will also plot the Auto Correlation Function. If there is a trend in the data ACF will indicate non-stationarity as the lags increase.\n",
    "\n",
    "<br>Stochastic Trend tests usually require a lot more data points as more lags might be required for a better model but I will still check for it as very confident p values may be indicative of a stochastic trend. For this I will use the  Phillips Perron test which performs better on smaller data points as it does not use lagged values for regression but uses 'tau' as a default and as such is similar to Augmented Dicky Fuller test which performs well on scarce data. Even then, it is not good practice to use a unit root test with this many points. However, by running the test twice, once without accounting for a deterministic trend and once accounting for it, we can at least use the test to double-check the existence of a deterministic trend.\n",
    "\n"
   ]
  },
  {
   "cell_type": "code",
   "execution_count": 299,
   "metadata": {},
   "outputs": [],
   "source": [
    "def check_trend(series, acf=1,true_axis=1,pptest=1):\n",
    "    \"\"\"Check Trend\n",
    "    \n",
    "    Parameters\n",
    "    ----------\n",
    "    acf: boolean\n",
    "        Draw graph of auto correlation function \n",
    "    true_axis: boolean\n",
    "        Include full y range in y axis for true scale\n",
    "    pptest: boolean\n",
    "        Run Phillips Perron test\n",
    "    \"\"\"\n",
    "    x= range(1,9)\n",
    "    \n",
    "    plt.scatter(x,series)\n",
    "    m, b = np.polyfit(x, series, 1)\n",
    "    plt.plot(x, m*x + b, '-')\n",
    "    plt.title('Trend')\n",
    "    plt.show()\n",
    "    print('Slope: ',m)\n",
    "    print('Ratio of Slope: ',m/np.mean(series))\n",
    "    \n",
    "    if true_axis:\n",
    "        plt.scatter(x,series)\n",
    "        plt.ylim([0,max(series)*1.2])\n",
    "        m, b = np.polyfit(x, series, 1)\n",
    "        plt.plot(x, m*x + b, '-')\n",
    "        plt.title('Full y range')\n",
    "        plt.show()\n",
    "    \n",
    "    try: \n",
    "        if acf:\n",
    "            acf = pd.DataFrame(sm.tsa.stattools.acf(series), columns=['ACF'])\n",
    "            plt.bar(range(1,8),acf[1:].values,0.45,label='ACF')\n",
    "            plt.title('Autocorrelations')\n",
    "            plt.legend()\n",
    "            plt.show()\n",
    "    except TypeError as TE:\n",
    "        print(TE)\n",
    "        pass\n",
    "        \n",
    "    if pptest:\n",
    "        pp = PhillipsPerron(series)\n",
    "        pp.trend ='c'\n",
    "        print(pp.summary().as_text())\n",
    "        pp.trend = 'ct'\n",
    "        print(pp.summary().as_text())\n",
    "        \n",
    "        "
   ]
  },
  {
   "cell_type": "code",
   "execution_count": 294,
   "metadata": {},
   "outputs": [
    {
     "data": {
      "image/png": "[encoded data removed]",
      "text/plain": [
       "<matplotlib.figure.Figure at 0x114b07390>"
      ]
     },
     "metadata": {},
     "output_type": "display_data"
    },
    {
     "name": "stdout",
     "output_type": "stream",
     "text": [
      "Slope:  -582107.047619\n",
      "Ratio of Slope:  -0.0198164721952\n"
     ]
    },
    {
     "data": {
      "image/png": "[encoded data removed]",
      "text/plain": [
       "<matplotlib.figure.Figure at 0x114aca8d0>"
      ]
     },
     "metadata": {},
     "output_type": "display_data"
    },
    {
     "data": {
      "image/png": "[encoded data removed]",
      "text/plain": [
       "<matplotlib.figure.Figure at 0x112ce8320>"
      ]
     },
     "metadata": {},
     "output_type": "display_data"
    },
    {
     "name": "stdout",
     "output_type": "stream",
     "text": [
      "     Phillips-Perron Test (Z-tau)    \n",
      "=====================================\n",
      "Test Statistic                  0.914\n",
      "P-value                         0.993\n",
      "Lags                                7\n",
      "-------------------------------------\n",
      "\n",
      "Trend: Constant\n",
      "Critical Values: -4.94 (1%), -3.48 (5%), -2.84 (10%)\n",
      "Null Hypothesis: The process contains a unit root.\n",
      "Alternative Hypothesis: The process is weakly stationary.\n",
      "     Phillips-Perron Test (Z-tau)    \n",
      "=====================================\n",
      "Test Statistic                 -2.574\n",
      "P-value                         0.292\n",
      "Lags                                7\n",
      "-------------------------------------\n",
      "\n",
      "Trend: Constant and Linear Time Trend\n",
      "Critical Values: -6.22 (1%), -4.35 (5%), -3.64 (10%)\n",
      "Null Hypothesis: The process contains a unit root.\n",
      "Alternative Hypothesis: The process is weakly stationary.\n"
     ]
    }
   ],
   "source": [
    "check_trend(value_dict['TotalAssets'])"
   ]
  },
  {
   "cell_type": "markdown",
   "metadata": {},
   "source": [
    "    As we can see the deterministic trend is quite visible from the first graph and also noticeable in the second. Phillips Perron test also confirms the existence of a trend with 99.3% confidence. Once we detrend the series and run the phillips perron test again thus checking for stochastic trend only, this confidence reduces to 29.2% which confirms once again the existence of a deterministic trend. A p value of 0.292 is usually indicative of a stochastic trend and auto correlations does not seem to converge to zero as we move back in lags so it is safe to say that the series have an underlying stochastic trend as well. Considering the low number of data points however, it is better to proceed with caution."
   ]
  },
  {
   "cell_type": "code",
   "execution_count": 295,
   "metadata": {},
   "outputs": [
    {
     "data": {
      "image/png": "[encoded data removed]",
      "text/plain": [
       "<matplotlib.figure.Figure at 0x114ba5f98>"
      ]
     },
     "metadata": {},
     "output_type": "display_data"
    },
    {
     "name": "stdout",
     "output_type": "stream",
     "text": [
      "Slope:  1367.30952381\n",
      "Ratio of Slope:  0.0190738581825\n"
     ]
    },
    {
     "data": {
      "image/png": "[encoded data removed]",
      "text/plain": [
       "<matplotlib.figure.Figure at 0x112552320>"
      ]
     },
     "metadata": {},
     "output_type": "display_data"
    },
    {
     "name": "stdout",
     "output_type": "stream",
     "text": [
      "Error with ACF\n",
      "     Phillips-Perron Test (Z-tau)    \n",
      "=====================================\n",
      "Test Statistic                 -5.815\n",
      "P-value                         0.000\n",
      "Lags                                7\n",
      "-------------------------------------\n",
      "\n",
      "Trend: Constant\n",
      "Critical Values: -4.94 (1%), -3.48 (5%), -2.84 (10%)\n",
      "Null Hypothesis: The process contains a unit root.\n",
      "Alternative Hypothesis: The process is weakly stationary.\n",
      "     Phillips-Perron Test (Z-tau)    \n",
      "=====================================\n",
      "Test Statistic                 -4.733\n",
      "P-value                         0.001\n",
      "Lags                                7\n",
      "-------------------------------------\n",
      "\n",
      "Trend: Constant and Linear Time Trend\n",
      "Critical Values: -6.22 (1%), -4.35 (5%), -3.64 (10%)\n",
      "Null Hypothesis: The process contains a unit root.\n",
      "Alternative Hypothesis: The process is weakly stationary.\n"
     ]
    },
    {
     "data": {
      "image/png": "[encoded data removed]",
      "text/plain": [
       "<matplotlib.figure.Figure at 0x114c6dba8>"
      ]
     },
     "metadata": {},
     "output_type": "display_data"
    }
   ],
   "source": [
    "check_trend(value_dict['NetIncome'])"
   ]
  },
  {
   "cell_type": "markdown",
   "metadata": {},
   "source": [
    "    The line of best fit of the first graph was indicative of a trend but the data points look randomly spread so we must be skeptic. Considering this random spread, the low number of data points and the high volatility of our data, the trend could easily caused by outliers in the data. Phillips Perron test which accounts for variance tells us with great confidence that the data doesn't have  a trend. The steep slope of the line of best fit in the first graph is most likely caused by the volatility that the seeming seasonality brings. our AC plot seems to confirm this but we also got an error so although the error might be related to the lack of autocorrelation on our data, it is best not to take the AC graph into account. However we can note that the error is a TypeError and has to do with isfinite function of numpy which is indicative of an edge case regarding the autocorrelation and as such supports my assumption that it has to do with the data lacking proper conditions for an acf to be fit.  Regardless, best call would be to say that there is no deterministic nor stochastic trend in the data. With more data we could  check for seasonality and de seasonalize the series by fitting a first order differenced AR model. Then we could say whether this seeming trend is indicative of anything or mere white noise from the seasonality."
   ]
  },
  {
   "cell_type": "markdown",
   "metadata": {},
   "source": [
    "* Any other variable can be analyzed with the same approach. Considering that this assignment is already lengthy I preferred not to include an extensive analysis for the rest. I checked them all myself. TotalEquityCap has deterministic trend and no stochastic trend with quite certainity and the rest seem to follow a similar pattern with NetIncome and do not have trends."
   ]
  },
  {
   "cell_type": "markdown",
   "metadata": {},
   "source": [
    "## Regression Analysis\n",
    "\n",
    "* For regression I will be checking the effect of the feature values in a quarter on the price at the end of Quarter. Since returns are functions of price there is nothing to be gained from using them. \n",
    "\n",
    "\n",
    "* To check linear relationship I will use person correlation coefficient; more specifically pearsonr from scipy package which returns the coefficient and the p value for non-colinearity test. \n",
    "\n",
    "\n",
    "* In addition I will fit a linear regression function as well as a polynomial one and compare the size Root mean squared error with that of my target variable.\n",
    "\n",
    "\n",
    "* I think a simple linear regression with polynomial features suffices for this data as more complicated models might easily overfit the dataset and fail to be indicative of anything"
   ]
  },
  {
   "cell_type": "code",
   "execution_count": 313,
   "metadata": {},
   "outputs": [],
   "source": [
    "stock = stockprice.iloc[1:9,0].values\n",
    "\n",
    "def LinearRegression(features,targets,poly=1):\n",
    "    X = features.reshape(8,1)\n",
    "    y = targets.reshape(8,1)\n",
    "    \n",
    "\n",
    "    pr = pearsonr(X,y)\n",
    "    print('Correlation Coefficient: ',pr[0])\n",
    "    print('p-value for Non-Correlation: ',pr[1])\n",
    "    \n",
    "    lr = linear_model.LinearRegression()\n",
    "    lr.fit(X,y)\n",
    "    lrprediction = lr.predict(X)\n",
    "    print('RMSE: ',mean_squared_error(lrprediction,y))\n",
    "    \n",
    "    if poly:\n",
    "        model = make_pipeline(PolynomialFeatures(2), lr)\n",
    "        model.fit(X,y)\n",
    "        polyprediction = model.predict(X)\n",
    "        print('RMSE for polynomial: ',mean_squared_error(polyprediction,y))\n",
    "    \n",
    "    print('mean stock price : ',np.mean(targets))\n",
    "\n"
   ]
  },
  {
   "cell_type": "code",
   "execution_count": 315,
   "metadata": {},
   "outputs": [
    {
     "name": "stdout",
     "output_type": "stream",
     "text": [
      "----------Stats for TierIRatio----------\n",
      "Correlation Coefficient:  [ 0.32804339]\n",
      "p-value for Non-Correlation:  [ 0.42762101]\n",
      "RMSE:  36.7210541565\n",
      "RMSE for polynomial:  36.4389497587\n",
      "mean stock price :  62.89625\n",
      "----------Stats for TotalAssets----------\n",
      "Correlation Coefficient:  [ 0.37679507]\n",
      "p-value for Non-Correlation:  [ 0.35753025]\n",
      "RMSE:  35.3070816769\n",
      "RMSE for polynomial:  32.237903053\n",
      "mean stock price :  62.89625\n",
      "----------Stats for NPLsTotLns----------\n",
      "Correlation Coefficient:  [-0.02980039]\n",
      "p-value for Non-Correlation:  [ 0.94415734]\n",
      "RMSE:  41.112680327\n",
      "RMSE for polynomial:  40.5648136971\n",
      "mean stock price :  62.89625\n",
      "----------Stats for LiquidityRatio----------\n",
      "Correlation Coefficient:  [-0.38696745]\n",
      "p-value for Non-Correlation:  [ 0.34361461]\n",
      "RMSE:  34.9873824929\n",
      "RMSE for polynomial:  33.6195291563\n",
      "mean stock price :  62.89625\n",
      "----------Stats for RiskBasedCapitalRatio----------\n",
      "Correlation Coefficient:  [-0.15706822]\n",
      "p-value for Non-Correlation:  [ 0.71030491]\n",
      "RMSE:  40.1340545014\n",
      "RMSE for polynomial:  37.0239431359\n",
      "mean stock price :  62.89625\n",
      "----------Stats for TotalEquityCap----------\n",
      "Correlation Coefficient:  [ 0.45117517]\n",
      "p-value for Non-Correlation:  [ 0.2618369]\n",
      "RMSE:  32.7729271065\n",
      "RMSE for polynomial:  26.4700723315\n",
      "mean stock price :  62.89625\n",
      "----------Stats for NetIncome----------\n",
      "Correlation Coefficient:  [-0.30786667]\n",
      "p-value for Non-Correlation:  [ 0.45818807]\n",
      "RMSE:  37.2490225028\n",
      "RMSE for polynomial:  35.7323729969\n",
      "mean stock price :  62.89625\n"
     ]
    }
   ],
   "source": [
    "for key in value_dict.keys():\n",
    "    print('----------Stats for ' + key + '----------')\n",
    "    LinearRegression(value_dict[key],stock)"
   ]
  },
  {
   "cell_type": "markdown",
   "metadata": {},
   "source": [
    "    Analyzing these values is pretty straightforward NPLsTotLns with a p value of 0.94 for the test of non-correlation also displays highest RMSE and TotalEquityCap seems to be the feature which has the highest effect on stock price. "
   ]
  },
  {
   "cell_type": "markdown",
   "metadata": {},
   "source": [
    "## Sentiment Analysis\n",
    "\n",
    "For this part I will be doing a sentiment analysis using TextBlob on data from twitter. Twitter has a nice api called tweepy which is pretty straightforward to use.\n",
    "\n",
    "* I chose twitter as my source because it provides ample data which is relatively bias free as its user base is very diverse. \n",
    "\n",
    "\n",
    "* Instead of using sentiment score for every word I first look at the sentiment of the tweet as a whole and only then move on to select those words whose sentiment matches that of the tweet as a whole. The point of doing this was to make sure that the sentiment of the words represent the purpose with which they were spoken. \n",
    "\n",
    "\n",
    "* Consider the following sentence: \" People hate X but I love and adore X\". We could list hate as a word said about X but it isn't representative of the actual sentiment of the person. As such looking at the sentiment of the tweet first would be a good heuristic for avoiding such errors. \n"
   ]
  },
  {
   "cell_type": "code",
   "execution_count": 91,
   "metadata": {},
   "outputs": [],
   "source": [
    "\n",
    "class TwitterSentimentAnalysis(object):\n",
    "    \n",
    "    \n",
    "    def __init__(self):\n",
    "        \n",
    "        api_key = 'r3QAlQyZkD4iZWNgpBXlJWGex'\n",
    "        api_secret = 'Va4OErWVfHxilTMcqh8T1NfV1exQioRoxpvVCtHTHuflVoa2v5'\n",
    "        access_token = '118780162-w0yITP6i2OeuGSXx4mw1okUq9eO7Mil7iylTUfPg'\n",
    "        access_token_secret = 'UZUKCZJGKk5phsUgt8JlfLJPC4z8D16Z8nHad2bCfMggH'\n",
    "\n",
    "        try:\n",
    "            self.auth = OAuthHandler(api_key, api_secret)\n",
    "            self.auth.set_access_token(access_token, access_token_secret)\n",
    "            self.api = tweepy.API(self.auth)\n",
    "\n",
    "        except:\n",
    "            print(\"Error: Authentication Failed\")\n",
    "    \n",
    "    \n",
    "    def clean_tweet(self, tweet):\n",
    "        \n",
    "        return ' '.join(re.sub(\"(@[A-Za-z0-9]+)|([^0-9A-Za-z \\t])|(\\w+:\\/\\/\\S+)\", \" \", tweet).split())\n",
    "\n",
    "    def get_sentiment(self, tweet):\n",
    "\n",
    "\n",
    "        analysis = TextBlob(self.clean_tweet(tweet))\n",
    "\n",
    "        if analysis.sentiment.polarity > 0:\n",
    "            return 'positive'\n",
    "\n",
    "        elif analysis.sentiment.polarity < 0:\n",
    "            return 'negative'\n",
    "                       \n",
    "        else: \n",
    "            return 'neutral'\n",
    "                               \n",
    "\n",
    "    def get_tweets(self, query, count = 100):\n",
    "        \n",
    "        tweet_list=[]\n",
    "        \n",
    "        try:\n",
    "\n",
    "            fetched_tweets = self.api.search(q = query, count = count)\n",
    "\n",
    "\n",
    "            for tweet in fetched_tweets:\n",
    "\n",
    "                parsed_tweet = {}\n",
    "\n",
    "                parsed_tweet['text'] = tweet.text\n",
    "\n",
    "                parsed_tweet['sentiment'] = self.get_sentiment(tweet.text)\n",
    "\n",
    "\n",
    "                if tweet.retweet_count > 0:\n",
    "\n",
    "                    if parsed_tweet not in tweet_list:\n",
    "                        tweet_list.append(parsed_tweet)\n",
    "                else:\n",
    "                    tweet_list.append(parsed_tweet)\n",
    "\n",
    "\n",
    "            return tweet_list\n",
    "\n",
    "        except tweepy.TweepError as e:\n",
    "            # print error (if any)\n",
    "            print(\"Error : \" + str(e))\n",
    "                       \n",
    "                \n",
    "    def get_words(self, query, count=100):\n",
    "\n",
    "        word_dict = {}\n",
    "        positive = []\n",
    "        negative=[]\n",
    "        \n",
    "        try:\n",
    "            \n",
    "            tweet_list = self.get_tweets(query=query,count=count)\n",
    "            for tweet in tweet_list:\n",
    "\n",
    "                tokenized = RegexpTokenizer(r'\\w+').tokenize(tweet['text'])\n",
    "\n",
    "                if tweet['sentiment'] == 'positive':\n",
    "\n",
    "                    positive += [word for word in tokenized if TextBlob(word).sentiment.polarity > 0]\n",
    "\n",
    "                elif tweet['sentiment'] == 'negative':\n",
    "\n",
    "                    negative += [word for word in tokenized if TextBlob(word).sentiment.polarity < 0] \n",
    "\n",
    "            word_dict['positive']=set(positive)\n",
    "            word_dict['negative']=set(negative)\n",
    "            \n",
    "            return word_dict\n",
    "        \n",
    "        except tweepy.TweepError as e:\n",
    "            # print error (if any)\n",
    "            print(\"Error : \" + str(e))\n",
    "        "
   ]
  },
  {
   "cell_type": "code",
   "execution_count": 92,
   "metadata": {},
   "outputs": [
    {
     "name": "stdout",
     "output_type": "stream",
     "text": [
      "{'negative': {'hate'}, 'positive': {'more', 'old', 'new', 'First', 'love', 'thanks', 'awesome', 'Lol', 'OK'}}\n",
      "{'negative': {'Expected', 'previously', 'failed'}, 'positive': {'top', 'more', 'new', 'best', 'High', 'Strong', 'Better', 'love', 'awesome', 'excellent', 'More', 'able', 'Happy', 'free', 'New', 'secure', 'OK'}}\n"
     ]
    }
   ],
   "source": [
    "api = TwitterSentimentAnalysis()\n",
    "words1 = api.get_words(query='Bank of Oklahoma')\n",
    "words2 = api.get_words(query='BOKF')\n",
    "print(words1)\n",
    "print(words2)"
   ]
  },
  {
   "cell_type": "markdown",
   "metadata": {},
   "source": [
    "    People didn't have much bad things to say about Bank of Oklahoma which is nice but our data is also assymetrical which might be undesirable. We can always  hand pick some sources which we know a-priori to have negative sentiment and use the same(a very similar) algorithm to make our data more symmetric, if that is wanted. I think the percentages of positive and negative sentiments also provide useful information and is actually a desirable characteristic.\n",
    "\n",
    "#### We can also check  the tweets  and their sentiment"
   ]
  },
  {
   "cell_type": "code",
   "execution_count": 93,
   "metadata": {},
   "outputs": [
    {
     "data": {
      "text/plain": [
       "[{'sentiment': 'neutral',\n",
       "  'text': 'هل تعلم ! كيف يموت الجن و كم تبلغ أعمارهم . سبحان الله\\nهنا\\nhttps://t.co/bIgPfkJD08\\n#احلي_مالقيت_بتويتر\\nBOKF https://t.co/PUPZsKyi9d'},\n",
       " {'sentiment': 'positive',\n",
       "  'text': '#Tulsa #OK #USA - Senior Banking Center Manager 71st HWY 75 - Consumer Banking BOK Financial BOKF Hea... https://t.co/7YZDDJefuo #WORK #JOB'},\n",
       " {'sentiment': 'neutral',\n",
       "  'text': 'BOK Financial $BOKF Earning Favorable Press Coverage, Analysis Finds https://t.co/A4hM3IdDs9'},\n",
       " {'sentiment': 'negative',\n",
       "  'text': '$384.08 Million in Sales Expected for BOK Financial Co. $BOKF This Quarter https://t.co/qUmODm8vZo'},\n",
       " {'sentiment': 'neutral',\n",
       "  'text': 'Shell Asset Management Co. Sells 824 Shares of BOK Financial Co. $BOKF https://t.co/T0QEC5CSV5'},\n",
       " {'sentiment': 'neutral',\n",
       "  'text': '又吉の劇場買ってきました〜\\n登場する女の子の出身が青森という設定！それだけで嬉しい😊'},\n",
       " {'sentiment': 'neutral',\n",
       "  'text': 'BOK Financial Co. $BOKF EVP Donald T. Parker Sells 7,650 Shares of Stock https://t.co/ypC7N7tIal #stocks'},\n",
       " {'sentiment': 'neutral',\n",
       "  'text': 'BOK Financial Co. $BOKF EVP Donald T. Parker Sells 7,650 Shares of Stock https://t.co/QLJfiQo16z'},\n",
       " {'sentiment': 'neutral',\n",
       "  'text': 'BOK Financial Co. $BOKF EVP Donald T. Parker Sells 7,650 Shares of Stock https://t.co/yAhILfvQDU'},\n",
       " {'sentiment': 'neutral',\n",
       "  'text': 'BOK Financial Co. $BOKF EVP Donald T. Parker Sells 7,650 Shares of Stock https://t.co/MSTpGvwKsd'},\n",
       " {'sentiment': 'neutral',\n",
       "  'text': 'Denver Investment Advisors LLC Increases Stake in BOK Financial Co. $BOKF https://t.co/XzeJBHhUWI'},\n",
       " {'sentiment': 'neutral',\n",
       "  'text': 'Denver Investment Advisors LLC Increases Stake in BOK Financial Co. $BOKF https://t.co/Uy2LhKIZQ2'},\n",
       " {'sentiment': 'neutral',\n",
       "  'text': '$BOKF BOK Financial Corporation Daily Stock Price Summary\\nFrom our Stock News Alerts App'},\n",
       " {'sentiment': 'positive',\n",
       "  'text': '#Tulsa #OK #USA - Relationship Banker Southern Hills - Consumer Banking Branch. BOK Financial BOKF He... https://t.co/qGaqNstjgc #WORK #JOB'},\n",
       " {'sentiment': 'positive',\n",
       "  'text': '#Tulsa #OK #USA - Relationship Banker Southern Hills - Consumer Banking Branch. BOK Financial BOKF He... https://t.co/W7HBHjbejm #WORK #JOB'},\n",
       " {'sentiment': 'negative',\n",
       "  'text': '$384.08 Million in Sales Expected for BOK Financial Co. $BOKF This Quarter https://t.co/ptkNdgFtF7'},\n",
       " {'sentiment': 'neutral',\n",
       "  'text': 'Zacks: Brokerages Anticipate BOK Financial Co. $BOKF Will Announce Earnings of $1.29 Per Share https://t.co/zt7EKrLhaG'},\n",
       " {'sentiment': 'neutral',\n",
       "  'text': 'Zacks: Brokerages Anticipate BOK Financial Co. $BOKF Will Announce Earnings of $1.29 Per Share https://t.co/nruOC7mOXL'},\n",
       " {'sentiment': 'neutral',\n",
       "  'text': 'RT @marketexclusive: Insider Trading Activity BOK Financial Co. (NASDAQ:BOKF) – EVP Sold 7,650 shares of Stock https://t.co/yq9JHAUj8c $BOKF'},\n",
       " {'sentiment': 'neutral',\n",
       "  'text': 'Insider Trading Activity BOK Financial Co. (NASDAQ:BOKF) – EVP Sold 7,650 shares of Stock https://t.co/yq9JHAUj8c $BOKF'},\n",
       " {'sentiment': 'neutral',\n",
       "  'text': 'BOK Financial Co. $BOKF EVP Donald T. Parker Sells 7,650 Shares https://t.co/GFS4XB1hJq'},\n",
       " {'sentiment': 'neutral',\n",
       "  'text': 'BOK Financial Co. $BOKF EVP Donald T. Parker Sells 7,650 Shares https://t.co/blmSeVNvrl'},\n",
       " {'sentiment': 'positive',\n",
       "  'text': '$BOKF:\\n\\nNew Insider Filing on\\n\\nEVP, Chief Information Officer\\n\\nDONALD T PARKER:\\n\\nhttps://t.co/jhgSx1Idhq'},\n",
       " {'sentiment': 'neutral',\n",
       "  'text': 'EVP of BOK Financial Corporation just disposed of 8,696 shares  https://t.co/z3vt30URjz $BOKF'},\n",
       " {'sentiment': 'neutral',\n",
       "  'text': '$BOKF BOK Financial Corporation Document: Insider Ownership             \\nFrom our Stock News Alerts App'},\n",
       " {'sentiment': 'negative',\n",
       "  'text': 'RT @TheBondBuyer: Bond investors argue trustee BOKF had conflicts of interest in failed Brogdon senior housing project deals: https://t.co/…'},\n",
       " {'sentiment': 'neutral',\n",
       "  'text': '$BOKF BOK Financial Corporation Daily Stock Price Summary\\nFrom our Stock News Alerts App'},\n",
       " {'sentiment': 'neutral',\n",
       "  'text': 'MUST READ: Fund buying and short squeeze coming: https://t.co/Uociy7I8YP $RWR $APPS $KBWD $NVTA $BOKF $PINC $PRAH $KIE $FNCL $JASN'},\n",
       " {'sentiment': 'neutral',\n",
       "  'text': 'BOK Financial $BOKF Earning Favorable News Coverage, Study Shows https://t.co/GFmtaW7HMj'},\n",
       " {'sentiment': 'neutral',\n",
       "  'text': 'BOK Financial $BOKF Earning Favorable News Coverage, Study Shows https://t.co/u1apenIIwE'},\n",
       " {'sentiment': 'neutral',\n",
       "  'text': 'BOK Financial $BOKF Earning Favorable News Coverage, Study Shows https://t.co/DZEnHup3T3'},\n",
       " {'sentiment': 'neutral',\n",
       "  'text': 'BOK Financial $BOKF Earning Favorable News Coverage, Study Shows https://t.co/FXDJ2o8Q3t'},\n",
       " {'sentiment': 'positive',\n",
       "  'text': 'Here is an excellent opportunity to work in Downtown Tulsa with our entire recruiting team! Contact Amy Hoeffel for…https://t.co/27QgLgskLk'},\n",
       " {'sentiment': 'neutral',\n",
       "  'text': 'RT @BondBuyergirl: Municipal bond investors argue case against BOKF must continue https://t.co/os7PgGxKHe #muniland'},\n",
       " {'sentiment': 'neutral',\n",
       "  'text': 'Municipal bond investors argue case against BOKF must continue https://t.co/os7PgGxKHe #muniland'},\n",
       " {'sentiment': 'negative',\n",
       "  'text': 'Bond investors argue trustee BOKF had conflicts of interest in failed Brogdon senior housing project deals: https://t.co/4sAe3hJEXj'},\n",
       " {'sentiment': 'neutral',\n",
       "  'text': 'https://t.co/HYvmhXtFtN https://t.co/DRsdEkhEM5'},\n",
       " {'sentiment': 'positive',\n",
       "  'text': 'Our North Scottsdale location is looking for another top producer.    https://t.co/8wPiXwz348 https://t.co/PnwSnzKw6A'},\n",
       " {'sentiment': 'positive',\n",
       "  'text': '@LaurenGrisly Happy to hear your issue is resolved. If we can help you with anything in the future, feel free to tweet with us here.'},\n",
       " {'sentiment': 'neutral',\n",
       "  'text': 'Municipal bond investors argue Brogdon-based case against BOKF must continue: https://t.co/Tf69Jhcbh4'},\n",
       " {'sentiment': 'neutral',\n",
       "  'text': 'Municipal bond investors argue case against BOKF must continue https://t.co/os7PgGxKHe #muniland'},\n",
       " {'sentiment': 'neutral',\n",
       "  'text': 'Municipal bond investors argue case against BOKF must continue https://t.co/JR6AchtobF'},\n",
       " {'sentiment': 'neutral',\n",
       "  'text': 'Bondholders say BOKF had conflicts of interest in Brogdon, Edwards deals https://t.co/T6AkR3YmYw - @TheBondBuyer $$ https://t.co/88jfMKtjBE'},\n",
       " {'sentiment': 'negative',\n",
       "  'text': '@Mobank_BOKF I was told I can make a transfer via the drive through, but I was previously told I had to come into the lobby. Problem solved.'},\n",
       " {'sentiment': 'positive',\n",
       "  'text': '@LaurenGrisly May we contact you to discuss your options? If so, please DM your phone# and best time to call.'},\n",
       " {'sentiment': 'neutral',\n",
       "  'text': 'Big retail going away? Just changing size says @BOKFinancial corporate banking exec via @tulsaworld. BOKF has $745M… https://t.co/MVerTe0thT'},\n",
       " {'sentiment': 'neutral',\n",
       "  'text': 'BOKF Stock 82.52 Bok Financial Corp $BOKF Hit 551 52 week highs as of +47.15%. Currently trading at 82.52 -0.6 https://t.co/4IDkw2kp1p'},\n",
       " {'sentiment': 'positive',\n",
       "  'text': '#BOKFinancial #inancial Co. (bokf) to Issue Quarterly Dividend of $0.44 on  May 26th. Read more: https://t.co/BZuMCuabI2 $BOKF'},\n",
       " {'sentiment': 'neutral',\n",
       "  'text': '$BOKF Bok Financial Corp 83.15 Had 170,127 1 Month Highs. BOKF Last price 83.15 Last change -0.76 -0.91%.  https://t.co/XcIPAH32K0'},\n",
       " {'sentiment': 'neutral',\n",
       "  'text': 'BOKF Stock 83.15 Bok Financial Corp $BOKF Hit 170,127 52 week highs as of +48.27%. Currently trading at 83.15  https://t.co/Pivj7yAaXQ'},\n",
       " {'sentiment': 'neutral',\n",
       "  'text': '$BOKF BOK Financial Corporation Daily Stock Price Summary\\nFrom our Stock News Alerts App'},\n",
       " {'sentiment': 'positive',\n",
       "  'text': 'RT @EDCKC: More #KCCornerstone Partner Thx: @GilmoreBellPC  @HuntMidwest  @mercer  @Mobank_BOKF  @TBrowneInc  #TIFCommission'},\n",
       " {'sentiment': 'neutral',\n",
       "  'text': 'Zacks: Analysts Expect BOK Financial Co. $BOKF Will Announce Quarterly Sales of $384.08 Million https://t.co/fqEG0T7JkI'},\n",
       " {'sentiment': 'neutral',\n",
       "  'text': 'Zacks: Analysts Expect BOK Financial Co. $BOKF Will Announce Quarterly Sales of $384.08 Million https://t.co/mlfmL6QQ1G'},\n",
       " {'sentiment': 'neutral',\n",
       "  'text': 'Zacks: Analysts Expect BOK Financial Co. $BOKF Will Announce Quarterly Sales of $384.08 Million https://t.co/fGsI8ik7yn'},\n",
       " {'sentiment': 'neutral',\n",
       "  'text': 'Zacks: Analysts Expect BOK Financial Co. $BOKF Will Announce Quarterly Sales of $384.08 Million https://t.co/blkhuKhJxy'},\n",
       " {'sentiment': 'negative',\n",
       "  'text': 'BOK Financial Co. $BOKF Expected to Announce Earnings of $1.29 Per Share https://t.co/kSSiZo8ZTd'},\n",
       " {'sentiment': 'positive',\n",
       "  'text': 'More #KCCornerstone Partner Thx: @GilmoreBellPC  @HuntMidwest  @mercer  @Mobank_BOKF  @TBrowneInc  #TIFCommission'},\n",
       " {'sentiment': 'neutral',\n",
       "  'text': 'BB&amp;T Corp Invests $845,000 in BOK Financial Co. $BOKF https://t.co/zKTVItV38z'},\n",
       " {'sentiment': 'neutral',\n",
       "  'text': 'BOK Financial goes ex-dividend tomorrow https://t.co/KpX3FC4iMD $BOKF #sitifatimah #malaysia #financialplanning'},\n",
       " {'sentiment': 'neutral',\n",
       "  'text': 'BOK Financial Co. $bokf to Issue Quarterly Dividend of $0.44 on May 26th https://t.co/HCPK11Yr7w'},\n",
       " {'sentiment': 'neutral',\n",
       "  'text': 'BOK Financial goes ex-dividend tomorrow https://t.co/ui3AL0ReWx $BOKF'},\n",
       " {'sentiment': 'neutral',\n",
       "  'text': 'BOK Financial goes ex-dividend tomorrow https://t.co/LnxY6hw9IQ $BOKF'},\n",
       " {'sentiment': 'positive',\n",
       "  'text': \"@Mobank_BOKF Not being able to do a tfr over the phone is no big deal since you're open in the morning. Oh, wait.\"},\n",
       " {'sentiment': 'positive',\n",
       "  'text': \"@Mobank_BOKF love that the BKS branch doesn't open until 9. So convenient for those of us with jobs.\"},\n",
       " {'sentiment': 'positive',\n",
       "  'text': 'https://t.co/N37L1YH9bu &lt;&lt; Lots of awesome trading service reviews! $BOKF $ITW $CLGX $TRU'},\n",
       " {'sentiment': 'neutral', 'text': '本屋巡りなう。'},\n",
       " {'sentiment': 'neutral',\n",
       "  'text': 'Brokerages Set BOK Financial Co. $BOKF Price Target at $86.00 https://t.co/7k3MYWgySv'},\n",
       " {'sentiment': 'neutral',\n",
       "  'text': 'BOK Financial Co. $BOKF Price Target Raised to $83.00 https://t.co/pw9c2P3eiG'},\n",
       " {'sentiment': 'positive',\n",
       "  'text': 'Making an offer on a new home before you’ve sold yours can leave you in a pickle. #MortgageMonday https://t.co/cuvK6REbkk'},\n",
       " {'sentiment': 'neutral',\n",
       "  'text': 'Stephens Upgrades BOK Financial Co. $BOKF to “Overweight” https://t.co/Ekdhylek2p'},\n",
       " {'sentiment': 'neutral',\n",
       "  'text': '$BOKF BOK Financial Corporation Daily Stock Price Summary\\nFrom our Stock News Alerts App'},\n",
       " {'sentiment': 'neutral',\n",
       "  'text': '桜祭りが終ってしまった〜。\\n５月…６月…梅雨や雨がテーマの小説でも探してみよう（╹◡╹）♡'},\n",
       " {'sentiment': 'neutral',\n",
       "  'text': '$BOKF BOK Financial Announces Investor Day Webcast https://t.co/o0zZxymGoJ'},\n",
       " {'sentiment': 'neutral',\n",
       "  'text': 'Favorable News Coverage Extremely Likely to Affect BOK Financial $BOKF Share Price https://t.co/9sdAhQtlvY #stocks'},\n",
       " {'sentiment': 'neutral',\n",
       "  'text': 'Favorable News Coverage Extremely Likely to Affect BOK Financial $BOKF Share Price https://t.co/M9TzxN4mXK'},\n",
       " {'sentiment': 'neutral',\n",
       "  'text': 'Favorable News Coverage Extremely Likely to Affect BOK Financial $BOKF Share Price https://t.co/hxMotQ2p5q'},\n",
       " {'sentiment': 'neutral',\n",
       "  'text': 'Favorable News Coverage Extremely Likely to Affect BOK Financial $BOKF Share Price https://t.co/rZSQGPTOKD'},\n",
       " {'sentiment': 'positive',\n",
       "  'text': '#BOKFinancial #inancial Announces Investor Day Webcast. Read more: https://t.co/HTus4xHnWV $BOKF'},\n",
       " {'sentiment': 'positive',\n",
       "  'text': '#BOKFinancial #inancial Co. (bokf) to Issue Quarterly Dividend of $0.44 on  May 26th. Read more: https://t.co/xmPnHm6eQn $BOKF'},\n",
       " {'sentiment': 'positive',\n",
       "  'text': '#BOKFinancial #inancial Announces Investor Day Webcast. Read more: https://t.co/6qWs61j1l3 $BOKF'},\n",
       " {'sentiment': 'positive',\n",
       "  'text': 'BOK Financial Co. $BOKF Upgraded by Zacks Investment Research to Strong-Buy https://t.co/8Ri52OrUXF'},\n",
       " {'sentiment': 'neutral',\n",
       "  'text': '$BOKF:\\n\\nBOK Financial Announces Investor Day Webcast:\\n\\nhttps://t.co/fDKm9GjeLW'},\n",
       " {'sentiment': 'neutral',\n",
       "  'text': '$BOKF BOK Financial Corporation Press Release: BOK Financial Announces Investor Day Webcast\\nFrom our Stock News Alerts App'},\n",
       " {'sentiment': 'neutral',\n",
       "  'text': 'BOK Financial Announces Investor Day Webcast $BOKF https://t.co/zX1kYPUOfD'},\n",
       " {'sentiment': 'positive',\n",
       "  'text': 'BOK Financial Co. $BOKF Sets New 12-Month High on Better-Than-Expected Earnings https://t.co/5UXXRUHA95'},\n",
       " {'sentiment': 'positive',\n",
       "  'text': 'BOK Financial Co. $BOKF Upgraded by Zacks Investment Research to Strong-Buy https://t.co/lb9R2MAwUe'},\n",
       " {'sentiment': 'positive',\n",
       "  'text': 'BOK Financial Co. $BOKF Upgraded by Zacks Investment Research to Strong-Buy https://t.co/G0WDb0zxaE'},\n",
       " {'sentiment': 'neutral',\n",
       "  'text': 'Royal Bank of Canada Increases BOK Financial Co. $BOKF Price Target to $90.00 https://t.co/doDlprYMA0'},\n",
       " {'sentiment': 'neutral',\n",
       "  'text': 'Zacks: Brokerages Expect BOK Financial Co. $BOKF to Post $1.29 Earnings Per Share https://t.co/s59U29uCKu'},\n",
       " {'sentiment': 'neutral',\n",
       "  'text': 'Zacks: Brokerages Expect BOK Financial Co. $BOKF to Post $1.29 Earnings Per Share https://t.co/Nsegbs9U2R'},\n",
       " {'sentiment': 'positive',\n",
       "  'text': 'Simple steps you can take to keep mobile and online banking secure for your #SmallBusiness. #SmallBusinessWeek… https://t.co/PN9daKJCLt'},\n",
       " {'sentiment': 'negative',\n",
       "  'text': 'BOK Financial Co. (BOKF) Expected to Post Quarterly Sales of $384.08 Million https://t.co/6N5eq4QkhV'},\n",
       " {'sentiment': 'negative',\n",
       "  'text': 'BOK Financial Co. $BOKF Expected to Post Quarterly Sales of $384.08 Million https://t.co/fzyG8HEVYI #acn'},\n",
       " {'sentiment': 'negative',\n",
       "  'text': 'BOK Financial Co. $BOKF Expected to Post Quarterly Sales of $384.08 Million https://t.co/u1taTcIhpm'},\n",
       " {'sentiment': 'negative',\n",
       "  'text': 'BOK Financial Co. $BOKF Expected to Post Quarterly Sales of $384.08 Million https://t.co/69j5R4g4BR'},\n",
       " {'sentiment': 'negative',\n",
       "  'text': 'BOK Financial Co. $BOKF Expected to Post Quarterly Sales of $384.08 Million https://t.co/8B0TtwvVWW'},\n",
       " {'sentiment': 'positive',\n",
       "  'text': '#Tulsa #OK #USA - Human Resources Coordinator Total Rewards - Human Resources BOK Financial BOKF Head... https://t.co/u2x9CbIbap #WORK #JOB'}]"
      ]
     },
     "execution_count": 93,
     "metadata": {},
     "output_type": "execute_result"
    }
   ],
   "source": [
    "api = TwitterSentimentAnalysis()\n",
    "api.get_tweets(query='BOKF')"
   ]
  },
  {
   "cell_type": "markdown",
   "metadata": {},
   "source": [
    "    At first I was worried that the query was returning erronaeous results but turns out BOK Financials own Bank of Oklahoma so I guess you meant BOK Financials when you said BOKF? Considering this I didn't revise search criteria. Don't think it is too big of a problem though as we can always get those tweets which specifically have @BankOfOklahoma or whatever the hashtag is."
   ]
  },
  {
   "cell_type": "markdown",
   "metadata": {
    "collapsed": true
   },
   "source": [
    "# Credit Summary"
   ]
  },
  {
   "cell_type": "markdown",
   "metadata": {},
   "source": [
    "## NLG"
   ]
  },
  {
   "cell_type": "code",
   "execution_count": 276,
   "metadata": {},
   "outputs": [],
   "source": [
    "\n",
    "def nlgfordata(frame):\n",
    "\n",
    "    def map_trend(frame):\n",
    "\n",
    "        data = frame.values[0:8]\n",
    "\n",
    "        trend = []\n",
    "\n",
    "        for i in range(1,len(data)):\n",
    "\n",
    "            if data[i] > data[i-1]:\n",
    "\n",
    "                trend.append('down')\n",
    "\n",
    "            elif data[i] < data[i-1]:\n",
    "\n",
    "                trend.append('up')\n",
    "\n",
    "            else:\n",
    "\n",
    "                trend.append('same')\n",
    "\n",
    "        return trend[::-1]\n",
    "\n",
    "\n",
    "\n",
    "    def construct_beginning(frame):\n",
    "        beginning = []\n",
    "        beginning.append(frame.name + ' has trended ')\n",
    "        return beginning\n",
    "\n",
    "\n",
    "\n",
    "    def direction_and_number(x,direction):\n",
    "\n",
    "        if x > 1:\n",
    "            return direction + \" for \" + str(x) + \" quarters \"\n",
    "        else:\n",
    "            return direction + \" for \" + str(x) + \" quarter \"\n",
    "\n",
    "\n",
    "\n",
    "\n",
    "    def construct_middle(trend):\n",
    "\n",
    "        middle = []\n",
    "\n",
    "\n",
    "        direction = trend[0]\n",
    "        micro_counter = 1\n",
    "        macro_counter = 1\n",
    "\n",
    "        for item in trend[1:]:\n",
    "\n",
    "            if item == direction:\n",
    "                micro_counter += 1\n",
    "                if macro_counter > len(trend)-2:\n",
    "                    middle.append(direction_and_number(micro_counter-1,direction))\n",
    "                \n",
    "            else:\n",
    "                middle.append(direction_and_number(micro_counter,direction))\n",
    "                direction = item\n",
    "                micro_counter = 1\n",
    "\n",
    "                if macro_counter < len(trend)-1:\n",
    "                    middle.append(', then ')\n",
    "\n",
    "            macro_counter +=1\n",
    "            \n",
    "        return middle \n",
    "\n",
    "    def adjective(frame):\n",
    "        data = frame.values[8:10]\n",
    "        data = re.sub('-','',data[1])\n",
    "        integer = re.sub('%','',data)\n",
    "\n",
    "        if int(integer) > 30:\n",
    "            return 'substantially'\n",
    "\n",
    "        elif int(integer)>15:\n",
    "            return 'considerably'\n",
    "\n",
    "        elif int(integer) <= 15:\n",
    "            return 'slightly'\n",
    "\n",
    "\n",
    "\n",
    "\n",
    "    def construct_end(trend,frame):\n",
    "\n",
    "        data = frame.values[8:10]\n",
    "        end = []\n",
    "\n",
    "        changedto = '$' + frame.values[0][0:4] + 'bn'\n",
    "        qoq = '$' + str(math.ceil(float(re.sub(',','.',re.sub('-','',data[0])))*10) /10) + 'mm'\n",
    "\n",
    "\n",
    "\n",
    "        if trend[-1] == trend[-2]:\n",
    "\n",
    "            if trend[-1] == 'up':\n",
    "\n",
    "                end.append('and this quarter it also increased, ' + \\\n",
    "                                      adjective(frame) + \\\n",
    "                           ', by ' + qoq + ' to '  + changedto +  \\\n",
    "                           ', an increase of '+str(data[1]))\n",
    "\n",
    "\n",
    "            elif trend[-1] == 'down':\n",
    "\n",
    "                end.append('and this quarter it also decreased, '  + \\\n",
    "                                      adjective(frame) + \\\n",
    "                           ', by ' + qoq + ' to '  + changedto +  \\\n",
    "                           ', a decrease of '+ re.sub('-','',str(data[1])))\n",
    "\n",
    "        elif trend[-1] != trend[-2]:\n",
    "\n",
    "            if trend[-1] == 'up':\n",
    "\n",
    "                end.append('but this quarter it  increased, '  + \\\n",
    "                                      adjective(frame) + \\\n",
    "                           ', by ' + qoq + ' to '  + changedto + \\\n",
    "                           ', an increase of '+str(data[1]))\n",
    "\n",
    "\n",
    "            elif trend[-1] == 'down':\n",
    "\n",
    "                end.append('but this quarter it  decreased, '  + \\\n",
    "                                      adjective(frame) + \\\n",
    "                           ', by ' + qoq + ', to '  + changedto +   \\\n",
    "                           ', a decrease of ' + re.sub('-','',str(data[1])))\n",
    "\n",
    "        return end\n",
    "\n",
    "    \n",
    "    trend = map_trend(frame)\n",
    "    beginning = construct_beginning(frame)\n",
    "    middle = construct_middle(trend)\n",
    "    end = construct_end(trend,frame)\n",
    "    \n",
    "    total = beginning + middle + end\n",
    "    \n",
    "    sentence = str()\n",
    "    for string in total:\n",
    "        sentence += string\n",
    "        \n",
    "    return sentence\n",
    "    "
   ]
  },
  {
   "cell_type": "markdown",
   "metadata": {},
   "source": [
    "    Ok, so I bet this code is full of bugs and might not work for everything. I had a lot of fun writing it but it is merely an ad-hoc solution and a first attempt. It works fine for the values we have at hand as far as I can tell. \n",
    " \n",
    " \n",
    "    Only bug I could catch was with NPLs, although the change is %48 the data says that delta change is 0.0 so the code tells that there was a big change of 0.0mm. I think stuff like these can be handled with a final wrapper but I don't have time to think and write something like that. \n",
    " \n",
    "### Take a look:\n"
   ]
  },
  {
   "cell_type": "code",
   "execution_count": 277,
   "metadata": {},
   "outputs": [
    {
     "name": "stdout",
     "output_type": "stream",
     "text": [
      "Total Assets has trended up for 5 quarters , then down for 1 quarter but this quarter it  increased, slightly, by $917.6mm to $31,2bn, an increase of 3%\n",
      "----------------------------------\n",
      "Net Income has trended down for 1 quarter , then up for 1 quarter , then down for 1 quarter , then up for 2 quarters , then down for 1 quarter and this quarter it also decreased, considerably, by $14.8mm to $58,3bn, a decrease of 20%\n",
      "----------------------------------\n",
      "Total Equity Cap has trended up for 6 quarters but this quarter it  decreased, slightly, by $151.6mm, to $2,75bn, a decrease of 5%\n",
      "----------------------------------\n",
      "Tier I Ratio has trended up for 2 quarters , then down for 1 quarter , then up for 3 quarters but this quarter it  decreased, slightly, by $0.7mm, to $10.2bn, a decrease of 6%\n",
      "----------------------------------\n",
      "Risk Based Capital Ratio has trended up for 1 quarter , then down for 2 quarters , then up for 1 quarter , then down for 1 quarter , then up for 1 quarter but this quarter it  decreased, slightly, by $0.7mm, to $11.4bn, a decrease of 5%\n",
      "----------------------------------\n",
      "NPLs/ Tot Lns has trended down for 1 quarter , then up for 1 quarter , then down for 1 quarter , then up for 2 quarters , then down for 1 quarter but this quarter it  increased, substantially, by $0.0mm to $1.05bn, an increase of 48%\n",
      "----------------------------------\n",
      "Liquidity Ratio has trended down for 1 quarter , then up for 1 quarter , then down for 4 quarters and this quarter it also decreased, slightly, by $2.0mm to $20.3bn, a decrease of 8%\n",
      "----------------------------------\n"
     ]
    }
   ],
   "source": [
    "row_index_with_actual_data = [1,4,7,8,9,12,15]\n",
    "\n",
    "for index in row_index_with_actual_data:\n",
    "    \n",
    "    frame = financials.iloc[index,:]\n",
    "    print(nlgfordata(frame))\n",
    "    print( '----------------------------------' )"
   ]
  },
  {
   "cell_type": "markdown",
   "metadata": {},
   "source": [
    "### Notice\n",
    "\n",
    "* The adjective after \"and this quarter it also decreased\" is dynamic and changes according to the extend of change. I set it quite arbitrarily to say \"slightly\" below 15 percent, \"considerably\" between 15 and 30 and \"substantially above 30. I suppose I could pick better adjectives but I guess you get the point.\n",
    "\n",
    "\n",
    "* The grammar of the last sentence is dependent on the previous sentence and conjunctions such as \"and\" or \"but\" are being used (almost) properly.\n",
    "\n",
    "\n",
    "* I tried adhering to simple grammar rules such as using quarters for plural and quarter for singular numbers. \n",
    "\n",
    "\n",
    "* I used a different sentence structure than the one you suggested in the assignment but it is only because I arbitrarily picked these as I went along and don't think it matters to change it as the point I think is to get other stuff right.\n",
    "\n",
    "\n",
    "* This can be improved substantially given more time. Constructing a class would be better and dealing with all these grammar rules I appreciate the benefit of using an NLG library."
   ]
  },
  {
   "cell_type": "markdown",
   "metadata": {},
   "source": [
    "# Getting to know me"
   ]
  },
  {
   "cell_type": "markdown",
   "metadata": {},
   "source": [
    "*  What is a passage, book, sentence, or article that has meant the most in developing your character, moral compass, strength, and compassion for others?\n",
    "\n",
    "     This is quite difficult for me to answer as there are countless books, sentences, articles that shaped who I am. I always defended the value of an eclectic approach to knowledge and diversity of interests. As such I can't really compare things like my interest in philosopy during High-School or my interest in the role physical forces play in natural morphology.I doubt I would find such beauty in natural sciences if it wasn't for the poetry of Nazim Hikmet. It is often the case that one  is meaningless without the rest and the whole is more than the sum of its parts. So with apologies I would at least like to narrow it down to three books which had a very definitive impact on me.\n",
    "\n",
    "      1- Douglas Adams - Hitchhiker's Guide to the Galaxy\n",
    "        Although this is a sci-fi satire whose genre is literally \"literary none-sense\", I consider it among the most philosophical books I ever read in which  the answer to the \"Question of Life the Universe and Everything\" is claimed to be \"42\". Douglas Adams has a very unique perspective. His total disregard for anything serious and his mockery of the search for meaning is far from nihilistic as some would claim but simply a celebration of the absurdity of life. He makes the case that things are often multi dimensional and the universe is mind boggling. The questions we ask can be more important than the asnwers we got and meaning can be slowly weaved into things with work. He taught me to think outside the box, have a holistic perspective and enjoy the ride.\n",
    "   \n",
    "      2- Richard Dawkins- The Selfish Gene\n",
    "        I owe the justification of my ethical principles to this book. It is a very comprehensive investigation of natural selection and evolution using game-theory as a framework. The final conclusion, which Dawkins empirically proves over and over is that Altruism or as he puts it \"Selfish Altruism\" is one of the best survival strategies nature has ever produced. Being a good person, before anyone, benefits you the most and communities full of altruistic individuals thrive.\n",
    "   \n",
    "      3- Karl Popper- The Logic of Scientific Discovery\n",
    "        This is the last philosophy book I  read. When I read it in sophmore year, it filled a void that I was so desperately trying to fill for years.  Karl Popper starts from the long lasting problem of induction and introduces very sound principles for the creation of knowledge. Among these are the principle of Falsifiability, which states that for anything to be scientific it must be falsifiable. Although this sounds simple, it is very effective and the way everything is connected and explained in the book has made me appreciate and understand science in a very different level and definitely expanded the way I think.\n",
    "\n",
    "\n",
    "* Tell me about something you’ve done to help improve the life of another person.\n",
    "\n",
    "    I was very verbose in answering the first question so I will try to keep the remaining two short. I was lucky enough to have good fundemental education as both my elementary school and high school were top ranked schools. During my undergraduate years I saw how important this was as some courses which seemed so intuitive to me caused nightmares to others. Many good students had monetized their intuition/hard-work and would offer private tutoring. Some students however barely made ends meet as is let alone be able to pay the high fees those students asked for. So I offered classes to anyone interested before exams, free of charge. I had quite high attendence rates. In the end the appreciation of those I taught was more than enough reward for me.\n",
    "    \n",
    "    \n",
    "* What are your best personality traits that are relevant to the role (e.g. determination, agreeability)?\n",
    "\n",
    "    A trait that I value greatly is creativity. I have always been reserved towards authority and tried to become my own person and have my own unique thoughts. I also value honesty, mainly the honesty of a person to himself. I try really hard to keep myself free of bias and remain objective. This hard task requires constant inward observation which in turn helps me be rid of the cyclical, lazy ways of thinking. It also helps make me be a more amicable person.\n"
   ]
  }
 ],
 "metadata": {
  "kernelspec": {
   "display_name": "py35",
   "language": "python",
   "name": "py35"
  },
  "language_info": {
   "codemirror_mode": {
    "name": "ipython",
    "version": 3
   },
   "file_extension": ".py",
   "mimetype": "text/x-python",
   "name": "python",
   "nbconvert_exporter": "python",
   "pygments_lexer": "ipython3",
   "version": "3.5.2"
  }
 },
 "nbformat": 4,
 "nbformat_minor": 2
}
