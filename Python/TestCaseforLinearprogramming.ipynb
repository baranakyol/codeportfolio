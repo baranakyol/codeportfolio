{
 "cells": [
  {
   "cell_type": "code",
   "execution_count": 1,
   "metadata": {
    "collapsed": true
   },
   "outputs": [],
   "source": [
    "from random import *\n",
    "from pulp import *"
   ]
  },
  {
   "cell_type": "code",
   "execution_count": 2,
   "metadata": {
    "collapsed": false
   },
   "outputs": [],
   "source": [
    "n, low_val, high_val = 10, 50, 100\n",
    "days, band = 200, 30"
   ]
  },
  {
   "cell_type": "code",
   "execution_count": 3,
   "metadata": {
    "collapsed": false
   },
   "outputs": [],
   "source": [
    "values = [0] + [randint(low_val,high_val) for i in xrange(n)]\n",
    "prices = [[v + randint(-band*10000/2,band*10000/2)/10000.0 for v in values] for day in xrange(days)]\n",
    "profits = [[values[i] - p_t[i] for i in xrange(n)] for p_t in prices]\n",
    "max_profit_items = [profit.index(max(profit)) for profit in profits]\n",
    "T_i = [[d for d in xrange(days) if max_profit_items[d] == i] for i in xrange(n)]\n",
    "w_ij = [[min([prices[d][j] - prices[d][i] for d in T_i[i]]) for j in xrange(n)] for i in xrange(n)]"
   ]
  },
  {
   "cell_type": "code",
   "execution_count": 4,
   "metadata": {
    "collapsed": false
   },
   "outputs": [
    {
     "name": "stdout",
     "output_type": "stream",
     "text": [
      "[0, 93, 61, 52, 62, 68, 99, 70, 63, 69, 63]\n",
      "Optimal\n",
      "640.1458\n",
      "PrimalValue_0 = 0.0\n",
      "PrimalValue_1 = 93.4263\n",
      "PrimalValue_2 = 61.4048\n",
      "PrimalValue_3 = 52.1084\n",
      "PrimalValue_4 = 62.2467\n",
      "PrimalValue_5 = 68.5243\n",
      "PrimalValue_6 = 99.2412\n",
      "PrimalValue_7 = 70.4058\n",
      "PrimalValue_8 = 63.2766\n",
      "PrimalValue_9 = 69.5117\n"
     ]
    }
   ],
   "source": [
    "prob = LpProblem(\"primal\", LpMaximize)\n",
    "Primal_Values = LpVariable.dicts(\"PrimalValue\",[pv for pv in xrange(n)],0)\n",
    "prob += lpSum([Primal_Values[x] for x in xrange(1,n)]), \"Total Value\"\n",
    "for i in xrange(n):\n",
    "    for j in xrange(n):\n",
    "        if i != j:\n",
    "            prob += lpSum([Primal_Values[j], -Primal_Values[i]]) <= w_ij[i][j], \"w_{0}{1}\".format(i,j)\n",
    "prob += Primal_Values[0] == 0, \"v0 = 0\"\n",
    "prob.solve()\n",
    "print values\n",
    "print LpStatus[prob.status]\n",
    "print value(prob.objective)\n",
    "for v in prob.variables():\n",
    "    print v.name, \"=\", v.varValue"
   ]
  },
  {
   "cell_type": "code",
   "execution_count": 5,
   "metadata": {
    "collapsed": false,
    "scrolled": true
   },
   "outputs": [
    {
     "name": "stdout",
     "output_type": "stream",
     "text": [
      "Optimal\n",
      "DualValue_x_02 = 3.0\n",
      "DualValue_x_03 = 2.0\n",
      "DualValue_x_06 = 3.0\n",
      "DualValue_x_09 = 1.0\n",
      "DualValue_x_15 = 1.0\n",
      "DualValue_x_21 = 2.0\n",
      "DualValue_x_38 = 1.0\n",
      "DualValue_x_47 = 1.0\n",
      "DualValue_x_64 = 2.0\n",
      "y = 10.0\n",
      "640.1458\n"
     ]
    }
   ],
   "source": [
    "prob_dual = LpProblem(\"dual\", LpMinimize)\n",
    "ijs = [(i,j) for i in xrange(n) for j in xrange(n) if j != i]\n",
    "Dual_Values = LpVariable.dicts(\"DualValue\",[\"x_{0}{1}\".format(i,j) for (i,j) in ijs],0)\n",
    "prob_dual += lpSum([Dual_Values[\"x_{0}{1}\".format(i,j)] * w_ij[i][j] for (i,j) in ijs])\n",
    "free_y = LpVariable(\"y\")\n",
    "prob_dual += lpSum([free_y,-1] + \\\n",
    "                   [Dual_Values[\"x_{0}0\".format(j)] for j in xrange(1,n)] + \\\n",
    "                   [-Dual_Values[\"x_0{0}\".format(j)] for j in xrange(1,n)]) >= 0\n",
    "for i in xrange(1,n):\n",
    "    prob_dual += lpSum([-1] + \\\n",
    "                   [Dual_Values[\"x_{0}{1}\".format(j,i)] for j in xrange(0,n) if j != i] + \\\n",
    "                   [-Dual_Values[\"x_{1}{0}\".format(j,i)] for j in xrange(0,n) if j != i]) >= 0\n",
    "prob_dual.solve()\n",
    "print LpStatus[prob_dual.status]\n",
    "for v in prob_dual.variables():\n",
    "    if v.varValue != 0.0:\n",
    "        print v.name, \"=\", v.varValue\n",
    "print value(prob_dual.objective)"
   ]
  },
  {
   "cell_type": "code",
   "execution_count": null,
   "metadata": {
    "collapsed": true
   },
   "outputs": [],
   "source": []
  }
 ],
 "metadata": {
  "anaconda-cloud": {},
  "kernelspec": {
   "display_name": "Python [Root]",
   "language": "python",
   "name": "Python [Root]"
  },
  "language_info": {
   "codemirror_mode": {
    "name": "ipython",
    "version": 2
   },
   "file_extension": ".py",
   "mimetype": "text/x-python",
   "name": "python",
   "nbconvert_exporter": "python",
   "pygments_lexer": "ipython2",
   "version": "2.7.12"
  }
 },
 "nbformat": 4,
 "nbformat_minor": 0
}
