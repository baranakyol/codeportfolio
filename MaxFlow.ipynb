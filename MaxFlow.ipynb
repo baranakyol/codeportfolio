{
 "cells": [
  {
   "cell_type": "markdown",
   "metadata": {},
   "source": [
    "# Max Flow Applications\n",
    "\n",
    "The purpose of this assignment is to investigate applications of finding a Max Flow. The problem asks you to design and implement an algorithm for shipping a material between nodes with different supply and demand requirements.\n",
    "\n",
    "* Please write code *only* in the bodies of the two functions, that is, following the TODO comments.\n",
    "* Be careful not to use varibles defined outside of the functions.\n",
    "* Breaking the two above rules may lead to 0 grades."
   ]
  },
  {
   "cell_type": "markdown",
   "metadata": {},
   "source": [
    "## Movie distribution\n",
    "\n",
    "First solve Problem 3 from HW3-theoretical. \n",
    "\n",
    "Now suppose a movie distributor would like to ship a copy of a film from CA to every other state. There are therefore 48 units to ship out of CA, and each other state receives 1 unit. \n",
    "\n",
    "The dataset contiguous-usa.dat lists the adjacent states in the US. Each line lists two adjacent states; thus AK and HI are omitted, but DC is included in the data. The following code reads in the graph of US states."
   ]
  },
  {
   "cell_type": "code",
   "execution_count": 22,
   "metadata": {
    "collapsed": false
   },
   "outputs": [],
   "source": [
    "import networkx as nx\n",
    "G = nx.Graph()\n",
    "\n",
    "usa = open('contiguous-usa.dat')\n",
    "for line in usa:\n",
    "    s1, s2 = line.strip().split()\n",
    "    G.add_edge(s1, s2)"
   ]
  },
  {
   "cell_type": "markdown",
   "metadata": {
    "collapsed": false
   },
   "source": [
    "We now encode the demands into the graph."
   ]
  },
  {
   "cell_type": "code",
   "execution_count": 23,
   "metadata": {
    "collapsed": true
   },
   "outputs": [],
   "source": [
    "for state in G.nodes():\n",
    "    if state != 'CA':\n",
    "        G.node[state]['demand'] = 1\n",
    "G.node['CA']['demand'] = -48"
   ]
  },
  {
   "cell_type": "markdown",
   "metadata": {
    "collapsed": false
   },
   "source": [
    "We will assign a uniform capacity of 16 to each edge. Since CA has only three adjacent states, this is the smallest possible uniform capacity that allows one to ship all 48 units out of CA. As we have created an undirected graph, and flows have directions, we first convert the graph to a directed graph."
   ]
  },
  {
   "cell_type": "code",
   "execution_count": 24,
   "metadata": {
    "collapsed": false
   },
   "outputs": [],
   "source": [
    "G = nx.DiGraph(G)\n",
    "uniform_capacity = 16\n",
    "for (s1, s2) in G.edges():\n",
    "    G.edge[s1][s2]['capacity'] = uniform_capacity"
   ]
  },
  {
   "cell_type": "markdown",
   "metadata": {},
   "source": [
    "Complete the following function to implement your algorithm to find a flow with demands. Your function should work correctly for any input, not just the movie instance considered here. As always, you are encouraged to define auxiliary functions as needed for clarity."
   ]
  },
  {
   "cell_type": "code",
   "execution_count": 25,
   "metadata": {
    "collapsed": false
   },
   "outputs": [],
   "source": [
    "\n",
    "\n",
    "def flow_with_demands(graph):\n",
    "    import networkx as nx\n",
    "    from networkx.algorithms.flow import maximum_flow\n",
    "    # reduce it to maxflow\n",
    "    for node in graph.nodes():\n",
    "        if graph.node[node]['demand'] < 0:\n",
    "            graph.add_edge('source',node)\n",
    "            graph.edge['source'][node]['capacity']= abs(graph.node[node]['demand'])\n",
    "        \n",
    "        elif graph.node[node]['demand'] > 0:\n",
    "            graph.add_edge(node,'sink')\n",
    "            graph.edge[node]['sink']['capacity']= abs(graph.node[node]['demand'])\n",
    "    \n",
    "    demandcheck=0\n",
    "    for node in graph.nodes():\n",
    "        demandcheck+=graph.node[node]['demand']\n",
    "        \n",
    "    # to check if minCut satisfies demand later\n",
    "    totalsourcecapacity = 0\n",
    "    for node in graph.nodes():\n",
    "        try:\n",
    "            totalsourcecapacity += graph.edge['source'][node]['capacity']\n",
    "        except KeyError:\n",
    "            continue\n",
    "    \n",
    "    #max flow\n",
    "    (flow1,flow2)= nx.maximum_flow(graph,'source','sink')\n",
    "    \n",
    "    \n",
    "    #retract reduction\n",
    "    for node in graph.nodes():\n",
    "        try:\n",
    "            del flow2[node]['sink']\n",
    "            del flow2['source'][node]\n",
    "        except KeyError:\n",
    "            continue\n",
    "    del flow2['source']\n",
    "    del flow2['sink']\n",
    "        \n",
    "    graph.remove_node('source')\n",
    "    graph.remove_node('sink')\n",
    "    \n",
    "\n",
    "    \n",
    "    #exceptions \n",
    "    #these could be better placed for a more efficient algorithm but decided to keep it legible\n",
    "    \n",
    "    \n",
    "    if demandcheck != 0:\n",
    "        raise nx.NetworkXUnfeasible('Not possible: Demand is not symmetric ')\n",
    "    \n",
    "    if flow1 == totalsourcecapacity:\n",
    "        return flow2\n",
    "\n",
    "    else:\n",
    "        raise nx.NetworkXUnfeasible('No flow satisfying the demand')\n",
    "        "
   ]
  },
  {
   "cell_type": "markdown",
   "metadata": {},
   "source": [
    "To verify that your solution is correct, implement a function that computes the total flow into each node (which will be negative for supply nodes)."
   ]
  },
  {
   "cell_type": "code",
   "execution_count": 26,
   "metadata": {
    "collapsed": false
   },
   "outputs": [],
   "source": [
    "def divergence(flow):\n",
    "    \"\"\"Computes the total flow into each node according to the given flow dict.\"\"\"\n",
    "    #create dict\n",
    "    flowdict={}\n",
    "    for key in flow:\n",
    "        flowdict[key]=0\n",
    "        for subkey in flow[key]:\n",
    "            flowdict[subkey]=0\n",
    "            \n",
    "    #flow out\n",
    "    for key in flow:\n",
    "        for subkey in flow[key]:\n",
    "            flowdict[key] -= flow[key][subkey]\n",
    "\n",
    "            \n",
    "    #flow in\n",
    "    for key in flow:\n",
    "        for subkey in flow[key]:\n",
    "            try:\n",
    "                flowdict[subkey] += flow[key][subkey]\n",
    "            except KeyError:\n",
    "                continue\n",
    "            \n",
    "\n",
    "    return flowdict"
   ]
  },
  {
   "cell_type": "markdown",
   "metadata": {},
   "source": [
    "The following code performs a sanity check on your function (but does not completely confirm correctness)."
   ]
  },
  {
   "cell_type": "code",
   "execution_count": 27,
   "metadata": {
    "collapsed": false,
    "scrolled": true
   },
   "outputs": [
    {
     "name": "stdout",
     "output_type": "stream",
     "text": [
      "Flow satisfies all demands: True\n"
     ]
    }
   ],
   "source": [
    "flow = flow_with_demands(G)\n",
    "div = divergence(flow)\n",
    "print \"Flow satisfies all demands:\", all(div[n] == G.node[n]['demand'] for n in G.nodes())"
   ]
  },
  {
   "cell_type": "code",
   "execution_count": null,
   "metadata": {
    "collapsed": true
   },
   "outputs": [],
   "source": []
  }
 ],
 "metadata": {
  "anaconda-cloud": {},
  "kernelspec": {
   "display_name": "Python [conda root]",
   "language": "python",
   "name": "conda-root-py"
  },
  "language_info": {
   "codemirror_mode": {
    "name": "ipython",
    "version": 2
   },
   "file_extension": ".py",
   "mimetype": "text/x-python",
   "name": "python",
   "nbconvert_exporter": "python",
   "pygments_lexer": "ipython2",
   "version": "2.7.12"
  }
 },
 "nbformat": 4,
 "nbformat_minor": 0
}
